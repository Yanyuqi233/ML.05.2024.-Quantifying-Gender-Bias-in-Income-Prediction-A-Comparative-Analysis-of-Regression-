{
 "cells": [
  {
   "cell_type": "markdown",
   "id": "fba1613c-0371-466a-9bc4-85e590aef9f9",
   "metadata": {},
   "source": [
    "# Libraries"
   ]
  },
  {
   "cell_type": "code",
   "execution_count": 4,
   "id": "79cb9ada-8f30-409d-b46c-a548c34d7b70",
   "metadata": {
    "tags": []
   },
   "outputs": [],
   "source": [
    "import pandas as pd\n",
    "import numpy as np\n",
    "import matplotlib.pyplot as plt\n",
    "import os"
   ]
  },
  {
   "cell_type": "markdown",
   "id": "ffa1eb9f-f6dd-46c0-beeb-d160571c50fe",
   "metadata": {},
   "source": [
    "# Data"
   ]
  },
  {
   "cell_type": "code",
   "execution_count": 5,
   "id": "459b3c23-bc95-4099-af50-eb7722eaf478",
   "metadata": {
    "tags": []
   },
   "outputs": [],
   "source": [
    "directory = '/Users/niahodges/Downloads/SPring 2024/Practicum in Data Analytics and Statistics/project/scripts/training/logs'"
   ]
  },
  {
   "cell_type": "markdown",
   "id": "38acc0b2-653c-4a4a-9b79-0295e5b3cfc7",
   "metadata": {},
   "source": [
    "# Visualize linear model performance"
   ]
  },
  {
   "cell_type": "code",
   "execution_count": 39,
   "id": "8eccae9f-5fbc-4b81-b8fa-fecd86eb8a63",
   "metadata": {
    "tags": []
   },
   "outputs": [],
   "source": [
    "G_linModels_metrics_fn = 'training_history_linModels_gender.csv'\n",
    "NG_linModels_metrics_fn = 'training_history_linModels_no-gender.csv'\n",
    "G_nnModel_metrics_fn = 'training_history_SimpleNN_gender.csv'\n",
    "NG_nnModel_metrics_fn = 'training_history_SimpleNN_no-gender.csv'\n",
    "\n",
    "G_fp = os.path.join(directory, G_linModels_metrics_fn)\n",
    "NG_fp = os.path.join(directory, NG_linModels_metrics_fn)\n",
    "G_nn_fp = os.path.join(directory, G_nnModel_metrics_fn)\n",
    "NG_nn_fp = os.path.join(directory, NG_nnModel_metrics_fn)"
   ]
  },
  {
   "cell_type": "code",
   "execution_count": 40,
   "id": "d5f282f9-4696-4d27-a02e-1e3a2e9cafe5",
   "metadata": {
    "tags": []
   },
   "outputs": [],
   "source": [
    "G_metrics_df = pd.read_csv(G_fp)\n",
    "NG_metrics_df = pd.read_csv(NG_fp)\n",
    "G_nnMetrics_df = pd.read_csv(G_nn_fp)\n",
    "NG_nnMetrics_df = pd.read_csv(NG_nn_fp)"
   ]
  },
  {
   "cell_type": "markdown",
   "id": "31e75ad0-9fa3-43eb-97ae-46002ca94de8",
   "metadata": {
    "jp-MarkdownHeadingCollapsed": true,
    "tags": []
   },
   "source": [
    "## Linear model metrics"
   ]
  },
  {
   "cell_type": "code",
   "execution_count": 9,
   "id": "47db458c-37dd-4a2f-b590-aa354d05c498",
   "metadata": {
    "tags": []
   },
   "outputs": [
    {
     "data": {
      "text/html": [
       "<div>\n",
       "<style scoped>\n",
       "    .dataframe tbody tr th:only-of-type {\n",
       "        vertical-align: middle;\n",
       "    }\n",
       "\n",
       "    .dataframe tbody tr th {\n",
       "        vertical-align: top;\n",
       "    }\n",
       "\n",
       "    .dataframe thead th {\n",
       "        text-align: right;\n",
       "    }\n",
       "</style>\n",
       "<table border=\"1\" class=\"dataframe\">\n",
       "  <thead>\n",
       "    <tr style=\"text-align: right;\">\n",
       "      <th></th>\n",
       "      <th>epoch</th>\n",
       "      <th>mse_lasso</th>\n",
       "      <th>mse_ridge</th>\n",
       "      <th>mae_lasso</th>\n",
       "      <th>mae_ridge</th>\n",
       "    </tr>\n",
       "  </thead>\n",
       "  <tbody>\n",
       "    <tr>\n",
       "      <th>0</th>\n",
       "      <td>1</td>\n",
       "      <td>1.110197e+09</td>\n",
       "      <td>1.110188e+09</td>\n",
       "      <td>22809.858462</td>\n",
       "      <td>22809.181926</td>\n",
       "    </tr>\n",
       "    <tr>\n",
       "      <th>1</th>\n",
       "      <td>2</td>\n",
       "      <td>1.110197e+09</td>\n",
       "      <td>1.110188e+09</td>\n",
       "      <td>22809.858462</td>\n",
       "      <td>22809.181926</td>\n",
       "    </tr>\n",
       "    <tr>\n",
       "      <th>2</th>\n",
       "      <td>3</td>\n",
       "      <td>1.110197e+09</td>\n",
       "      <td>1.110188e+09</td>\n",
       "      <td>22809.858462</td>\n",
       "      <td>22809.181926</td>\n",
       "    </tr>\n",
       "    <tr>\n",
       "      <th>3</th>\n",
       "      <td>4</td>\n",
       "      <td>1.110197e+09</td>\n",
       "      <td>1.110188e+09</td>\n",
       "      <td>22809.858462</td>\n",
       "      <td>22809.181926</td>\n",
       "    </tr>\n",
       "    <tr>\n",
       "      <th>4</th>\n",
       "      <td>5</td>\n",
       "      <td>1.110197e+09</td>\n",
       "      <td>1.110188e+09</td>\n",
       "      <td>22809.858462</td>\n",
       "      <td>22809.181926</td>\n",
       "    </tr>\n",
       "    <tr>\n",
       "      <th>...</th>\n",
       "      <td>...</td>\n",
       "      <td>...</td>\n",
       "      <td>...</td>\n",
       "      <td>...</td>\n",
       "      <td>...</td>\n",
       "    </tr>\n",
       "    <tr>\n",
       "      <th>95</th>\n",
       "      <td>96</td>\n",
       "      <td>1.110197e+09</td>\n",
       "      <td>1.110188e+09</td>\n",
       "      <td>22809.858462</td>\n",
       "      <td>22809.181926</td>\n",
       "    </tr>\n",
       "    <tr>\n",
       "      <th>96</th>\n",
       "      <td>97</td>\n",
       "      <td>1.110197e+09</td>\n",
       "      <td>1.110188e+09</td>\n",
       "      <td>22809.858462</td>\n",
       "      <td>22809.181926</td>\n",
       "    </tr>\n",
       "    <tr>\n",
       "      <th>97</th>\n",
       "      <td>98</td>\n",
       "      <td>1.110197e+09</td>\n",
       "      <td>1.110188e+09</td>\n",
       "      <td>22809.858462</td>\n",
       "      <td>22809.181926</td>\n",
       "    </tr>\n",
       "    <tr>\n",
       "      <th>98</th>\n",
       "      <td>99</td>\n",
       "      <td>1.110197e+09</td>\n",
       "      <td>1.110188e+09</td>\n",
       "      <td>22809.858462</td>\n",
       "      <td>22809.181926</td>\n",
       "    </tr>\n",
       "    <tr>\n",
       "      <th>99</th>\n",
       "      <td>100</td>\n",
       "      <td>1.110197e+09</td>\n",
       "      <td>1.110188e+09</td>\n",
       "      <td>22809.858462</td>\n",
       "      <td>22809.181926</td>\n",
       "    </tr>\n",
       "  </tbody>\n",
       "</table>\n",
       "<p>100 rows × 5 columns</p>\n",
       "</div>"
      ],
      "text/plain": [
       "    epoch     mse_lasso     mse_ridge     mae_lasso     mae_ridge\n",
       "0       1  1.110197e+09  1.110188e+09  22809.858462  22809.181926\n",
       "1       2  1.110197e+09  1.110188e+09  22809.858462  22809.181926\n",
       "2       3  1.110197e+09  1.110188e+09  22809.858462  22809.181926\n",
       "3       4  1.110197e+09  1.110188e+09  22809.858462  22809.181926\n",
       "4       5  1.110197e+09  1.110188e+09  22809.858462  22809.181926\n",
       "..    ...           ...           ...           ...           ...\n",
       "95     96  1.110197e+09  1.110188e+09  22809.858462  22809.181926\n",
       "96     97  1.110197e+09  1.110188e+09  22809.858462  22809.181926\n",
       "97     98  1.110197e+09  1.110188e+09  22809.858462  22809.181926\n",
       "98     99  1.110197e+09  1.110188e+09  22809.858462  22809.181926\n",
       "99    100  1.110197e+09  1.110188e+09  22809.858462  22809.181926\n",
       "\n",
       "[100 rows x 5 columns]"
      ]
     },
     "execution_count": 9,
     "metadata": {},
     "output_type": "execute_result"
    }
   ],
   "source": [
    "G_metrics_df"
   ]
  },
  {
   "cell_type": "code",
   "execution_count": 10,
   "id": "a8f8cf77-c1ad-48b8-891b-84e3b7ad4d6c",
   "metadata": {
    "tags": []
   },
   "outputs": [
    {
     "data": {
      "text/html": [
       "<div>\n",
       "<style scoped>\n",
       "    .dataframe tbody tr th:only-of-type {\n",
       "        vertical-align: middle;\n",
       "    }\n",
       "\n",
       "    .dataframe tbody tr th {\n",
       "        vertical-align: top;\n",
       "    }\n",
       "\n",
       "    .dataframe thead th {\n",
       "        text-align: right;\n",
       "    }\n",
       "</style>\n",
       "<table border=\"1\" class=\"dataframe\">\n",
       "  <thead>\n",
       "    <tr style=\"text-align: right;\">\n",
       "      <th></th>\n",
       "      <th>epoch</th>\n",
       "      <th>mse_lasso</th>\n",
       "      <th>mse_ridge</th>\n",
       "      <th>mae_lasso</th>\n",
       "      <th>mae_ridge</th>\n",
       "    </tr>\n",
       "  </thead>\n",
       "  <tbody>\n",
       "    <tr>\n",
       "      <th>0</th>\n",
       "      <td>1</td>\n",
       "      <td>1.138759e+09</td>\n",
       "      <td>1.138749e+09</td>\n",
       "      <td>23113.367571</td>\n",
       "      <td>23112.573045</td>\n",
       "    </tr>\n",
       "    <tr>\n",
       "      <th>1</th>\n",
       "      <td>2</td>\n",
       "      <td>1.138759e+09</td>\n",
       "      <td>1.138749e+09</td>\n",
       "      <td>23113.367571</td>\n",
       "      <td>23112.573045</td>\n",
       "    </tr>\n",
       "    <tr>\n",
       "      <th>2</th>\n",
       "      <td>3</td>\n",
       "      <td>1.138759e+09</td>\n",
       "      <td>1.138749e+09</td>\n",
       "      <td>23113.367571</td>\n",
       "      <td>23112.573045</td>\n",
       "    </tr>\n",
       "    <tr>\n",
       "      <th>3</th>\n",
       "      <td>4</td>\n",
       "      <td>1.138759e+09</td>\n",
       "      <td>1.138749e+09</td>\n",
       "      <td>23113.367571</td>\n",
       "      <td>23112.573045</td>\n",
       "    </tr>\n",
       "    <tr>\n",
       "      <th>4</th>\n",
       "      <td>5</td>\n",
       "      <td>1.138759e+09</td>\n",
       "      <td>1.138749e+09</td>\n",
       "      <td>23113.367571</td>\n",
       "      <td>23112.573045</td>\n",
       "    </tr>\n",
       "    <tr>\n",
       "      <th>...</th>\n",
       "      <td>...</td>\n",
       "      <td>...</td>\n",
       "      <td>...</td>\n",
       "      <td>...</td>\n",
       "      <td>...</td>\n",
       "    </tr>\n",
       "    <tr>\n",
       "      <th>95</th>\n",
       "      <td>96</td>\n",
       "      <td>1.138759e+09</td>\n",
       "      <td>1.138749e+09</td>\n",
       "      <td>23113.367571</td>\n",
       "      <td>23112.573045</td>\n",
       "    </tr>\n",
       "    <tr>\n",
       "      <th>96</th>\n",
       "      <td>97</td>\n",
       "      <td>1.138759e+09</td>\n",
       "      <td>1.138749e+09</td>\n",
       "      <td>23113.367571</td>\n",
       "      <td>23112.573045</td>\n",
       "    </tr>\n",
       "    <tr>\n",
       "      <th>97</th>\n",
       "      <td>98</td>\n",
       "      <td>1.138759e+09</td>\n",
       "      <td>1.138749e+09</td>\n",
       "      <td>23113.367571</td>\n",
       "      <td>23112.573045</td>\n",
       "    </tr>\n",
       "    <tr>\n",
       "      <th>98</th>\n",
       "      <td>99</td>\n",
       "      <td>1.138759e+09</td>\n",
       "      <td>1.138749e+09</td>\n",
       "      <td>23113.367571</td>\n",
       "      <td>23112.573045</td>\n",
       "    </tr>\n",
       "    <tr>\n",
       "      <th>99</th>\n",
       "      <td>100</td>\n",
       "      <td>1.138759e+09</td>\n",
       "      <td>1.138749e+09</td>\n",
       "      <td>23113.367571</td>\n",
       "      <td>23112.573045</td>\n",
       "    </tr>\n",
       "  </tbody>\n",
       "</table>\n",
       "<p>100 rows × 5 columns</p>\n",
       "</div>"
      ],
      "text/plain": [
       "    epoch     mse_lasso     mse_ridge     mae_lasso     mae_ridge\n",
       "0       1  1.138759e+09  1.138749e+09  23113.367571  23112.573045\n",
       "1       2  1.138759e+09  1.138749e+09  23113.367571  23112.573045\n",
       "2       3  1.138759e+09  1.138749e+09  23113.367571  23112.573045\n",
       "3       4  1.138759e+09  1.138749e+09  23113.367571  23112.573045\n",
       "4       5  1.138759e+09  1.138749e+09  23113.367571  23112.573045\n",
       "..    ...           ...           ...           ...           ...\n",
       "95     96  1.138759e+09  1.138749e+09  23113.367571  23112.573045\n",
       "96     97  1.138759e+09  1.138749e+09  23113.367571  23112.573045\n",
       "97     98  1.138759e+09  1.138749e+09  23113.367571  23112.573045\n",
       "98     99  1.138759e+09  1.138749e+09  23113.367571  23112.573045\n",
       "99    100  1.138759e+09  1.138749e+09  23113.367571  23112.573045\n",
       "\n",
       "[100 rows x 5 columns]"
      ]
     },
     "execution_count": 10,
     "metadata": {},
     "output_type": "execute_result"
    }
   ],
   "source": [
    "NG_metrics_df"
   ]
  },
  {
   "cell_type": "code",
   "execution_count": 16,
   "id": "727cb13c-da69-45b6-8aa9-8bb1ca4c6ae9",
   "metadata": {
    "tags": []
   },
   "outputs": [
    {
     "data": {
      "text/plain": [
       "1138758788.0071638"
      ]
     },
     "execution_count": 16,
     "metadata": {},
     "output_type": "execute_result"
    }
   ],
   "source": [
    "NG_metrics_df['mse_lasso'][99]"
   ]
  },
  {
   "cell_type": "markdown",
   "id": "45a2b47d-3eb7-4d88-8e06-c5be3f46e78a",
   "metadata": {},
   "source": [
    "## NN model metrics"
   ]
  },
  {
   "cell_type": "code",
   "execution_count": 42,
   "id": "3523cf3b-ba9f-41e6-97cf-82768afd62e0",
   "metadata": {
    "tags": []
   },
   "outputs": [
    {
     "data": {
      "text/html": [
       "<div>\n",
       "<style scoped>\n",
       "    .dataframe tbody tr th:only-of-type {\n",
       "        vertical-align: middle;\n",
       "    }\n",
       "\n",
       "    .dataframe tbody tr th {\n",
       "        vertical-align: top;\n",
       "    }\n",
       "\n",
       "    .dataframe thead th {\n",
       "        text-align: right;\n",
       "    }\n",
       "</style>\n",
       "<table border=\"1\" class=\"dataframe\">\n",
       "  <thead>\n",
       "    <tr style=\"text-align: right;\">\n",
       "      <th></th>\n",
       "      <th>epoch</th>\n",
       "      <th>mse_nn1</th>\n",
       "      <th>mae_nn1</th>\n",
       "    </tr>\n",
       "  </thead>\n",
       "  <tbody>\n",
       "    <tr>\n",
       "      <th>0</th>\n",
       "      <td>1</td>\n",
       "      <td>4.735606e+09</td>\n",
       "      <td>5.324241e+04</td>\n",
       "    </tr>\n",
       "    <tr>\n",
       "      <th>1</th>\n",
       "      <td>2</td>\n",
       "      <td>2.311719e+17</td>\n",
       "      <td>4.808034e+08</td>\n",
       "    </tr>\n",
       "    <tr>\n",
       "      <th>2</th>\n",
       "      <td>3</td>\n",
       "      <td>2.239747e+26</td>\n",
       "      <td>1.496578e+13</td>\n",
       "    </tr>\n",
       "    <tr>\n",
       "      <th>3</th>\n",
       "      <td>4</td>\n",
       "      <td>2.170130e+35</td>\n",
       "      <td>4.658465e+17</td>\n",
       "    </tr>\n",
       "    <tr>\n",
       "      <th>4</th>\n",
       "      <td>5</td>\n",
       "      <td>2.102619e+44</td>\n",
       "      <td>1.450041e+22</td>\n",
       "    </tr>\n",
       "    <tr>\n",
       "      <th>...</th>\n",
       "      <td>...</td>\n",
       "      <td>...</td>\n",
       "      <td>...</td>\n",
       "    </tr>\n",
       "    <tr>\n",
       "      <th>95</th>\n",
       "      <td>96</td>\n",
       "      <td>4.735729e+09</td>\n",
       "      <td>5.324352e+04</td>\n",
       "    </tr>\n",
       "    <tr>\n",
       "      <th>96</th>\n",
       "      <td>97</td>\n",
       "      <td>4.735729e+09</td>\n",
       "      <td>5.324352e+04</td>\n",
       "    </tr>\n",
       "    <tr>\n",
       "      <th>97</th>\n",
       "      <td>98</td>\n",
       "      <td>4.735729e+09</td>\n",
       "      <td>5.324352e+04</td>\n",
       "    </tr>\n",
       "    <tr>\n",
       "      <th>98</th>\n",
       "      <td>99</td>\n",
       "      <td>4.735729e+09</td>\n",
       "      <td>5.324352e+04</td>\n",
       "    </tr>\n",
       "    <tr>\n",
       "      <th>99</th>\n",
       "      <td>100</td>\n",
       "      <td>4.735729e+09</td>\n",
       "      <td>5.324352e+04</td>\n",
       "    </tr>\n",
       "  </tbody>\n",
       "</table>\n",
       "<p>100 rows × 3 columns</p>\n",
       "</div>"
      ],
      "text/plain": [
       "    epoch       mse_nn1       mae_nn1\n",
       "0       1  4.735606e+09  5.324241e+04\n",
       "1       2  2.311719e+17  4.808034e+08\n",
       "2       3  2.239747e+26  1.496578e+13\n",
       "3       4  2.170130e+35  4.658465e+17\n",
       "4       5  2.102619e+44  1.450041e+22\n",
       "..    ...           ...           ...\n",
       "95     96  4.735729e+09  5.324352e+04\n",
       "96     97  4.735729e+09  5.324352e+04\n",
       "97     98  4.735729e+09  5.324352e+04\n",
       "98     99  4.735729e+09  5.324352e+04\n",
       "99    100  4.735729e+09  5.324352e+04\n",
       "\n",
       "[100 rows x 3 columns]"
      ]
     },
     "execution_count": 42,
     "metadata": {},
     "output_type": "execute_result"
    }
   ],
   "source": [
    "G_nnMetrics_df"
   ]
  },
  {
   "cell_type": "code",
   "execution_count": 43,
   "id": "658f7fe5-ebe6-4339-8e89-4773771cbd07",
   "metadata": {
    "tags": []
   },
   "outputs": [
    {
     "data": {
      "text/html": [
       "<div>\n",
       "<style scoped>\n",
       "    .dataframe tbody tr th:only-of-type {\n",
       "        vertical-align: middle;\n",
       "    }\n",
       "\n",
       "    .dataframe tbody tr th {\n",
       "        vertical-align: top;\n",
       "    }\n",
       "\n",
       "    .dataframe thead th {\n",
       "        text-align: right;\n",
       "    }\n",
       "</style>\n",
       "<table border=\"1\" class=\"dataframe\">\n",
       "  <thead>\n",
       "    <tr style=\"text-align: right;\">\n",
       "      <th></th>\n",
       "      <th>epoch</th>\n",
       "      <th>mse_nn1</th>\n",
       "      <th>mae_nn1</th>\n",
       "    </tr>\n",
       "  </thead>\n",
       "  <tbody>\n",
       "    <tr>\n",
       "      <th>0</th>\n",
       "      <td>1</td>\n",
       "      <td>4.735615e+09</td>\n",
       "      <td>5.324249e+04</td>\n",
       "    </tr>\n",
       "    <tr>\n",
       "      <th>1</th>\n",
       "      <td>2</td>\n",
       "      <td>2.595631e+17</td>\n",
       "      <td>5.094734e+08</td>\n",
       "    </tr>\n",
       "    <tr>\n",
       "      <th>2</th>\n",
       "      <td>3</td>\n",
       "      <td>1.282911e+26</td>\n",
       "      <td>1.132657e+13</td>\n",
       "    </tr>\n",
       "    <tr>\n",
       "      <th>3</th>\n",
       "      <td>4</td>\n",
       "      <td>6.341852e+34</td>\n",
       "      <td>2.518303e+17</td>\n",
       "    </tr>\n",
       "    <tr>\n",
       "      <th>4</th>\n",
       "      <td>5</td>\n",
       "      <td>3.134704e+43</td>\n",
       "      <td>5.598843e+21</td>\n",
       "    </tr>\n",
       "    <tr>\n",
       "      <th>...</th>\n",
       "      <td>...</td>\n",
       "      <td>...</td>\n",
       "      <td>...</td>\n",
       "    </tr>\n",
       "    <tr>\n",
       "      <th>95</th>\n",
       "      <td>96</td>\n",
       "      <td>4.735729e+09</td>\n",
       "      <td>5.324352e+04</td>\n",
       "    </tr>\n",
       "    <tr>\n",
       "      <th>96</th>\n",
       "      <td>97</td>\n",
       "      <td>4.735729e+09</td>\n",
       "      <td>5.324352e+04</td>\n",
       "    </tr>\n",
       "    <tr>\n",
       "      <th>97</th>\n",
       "      <td>98</td>\n",
       "      <td>4.735729e+09</td>\n",
       "      <td>5.324352e+04</td>\n",
       "    </tr>\n",
       "    <tr>\n",
       "      <th>98</th>\n",
       "      <td>99</td>\n",
       "      <td>4.735729e+09</td>\n",
       "      <td>5.324352e+04</td>\n",
       "    </tr>\n",
       "    <tr>\n",
       "      <th>99</th>\n",
       "      <td>100</td>\n",
       "      <td>4.735729e+09</td>\n",
       "      <td>5.324352e+04</td>\n",
       "    </tr>\n",
       "  </tbody>\n",
       "</table>\n",
       "<p>100 rows × 3 columns</p>\n",
       "</div>"
      ],
      "text/plain": [
       "    epoch       mse_nn1       mae_nn1\n",
       "0       1  4.735615e+09  5.324249e+04\n",
       "1       2  2.595631e+17  5.094734e+08\n",
       "2       3  1.282911e+26  1.132657e+13\n",
       "3       4  6.341852e+34  2.518303e+17\n",
       "4       5  3.134704e+43  5.598843e+21\n",
       "..    ...           ...           ...\n",
       "95     96  4.735729e+09  5.324352e+04\n",
       "96     97  4.735729e+09  5.324352e+04\n",
       "97     98  4.735729e+09  5.324352e+04\n",
       "98     99  4.735729e+09  5.324352e+04\n",
       "99    100  4.735729e+09  5.324352e+04\n",
       "\n",
       "[100 rows x 3 columns]"
      ]
     },
     "execution_count": 43,
     "metadata": {},
     "output_type": "execute_result"
    }
   ],
   "source": [
    "NG_nnMetrics_df"
   ]
  },
  {
   "cell_type": "code",
   "execution_count": 74,
   "id": "23aa80db-fa9a-45b2-b40b-a5b4ef64be3c",
   "metadata": {
    "tags": []
   },
   "outputs": [
    {
     "data": {
      "image/png": "[encoded data removed]",
      "text/plain": [
       "<Figure size 640x480 with 2 Axes>"
      ]
     },
     "metadata": {},
     "output_type": "display_data"
    }
   ],
   "source": [
    "fig, axs = plt.subplots(2)\n",
    "\n",
    "# Plotting Gender Inclusive MSE values\n",
    "axs[0].plot(G_nnMetrics_df['epoch'], G_nnMetrics_df['mse_nn1'], color='r', label='Gender Inclusive')\n",
    "axs[0].set_xlabel('Epoch count')\n",
    "axs[0].set_ylabel('MSE value')\n",
    "axs[0].set_title('MSE values for Gender Inclusive NN')\n",
    "axs[0].legend()\n",
    "axs[0].grid(True)\n",
    "\n",
    "# Plotting Gender Exclusive MSE values\n",
    "axs[1].plot(NG_nnMetrics_df['epoch'], NG_nnMetrics_df['mse_nn1'], color='b', label='Gender Exclusive')\n",
    "axs[1].set_xlabel('Epoch count')\n",
    "axs[1].set_ylabel('MSE value')\n",
    "axs[1].set_title('MSE values for Gender Exclusive NN')\n",
    "axs[1].legend()\n",
    "axs[1].grid(True)\n",
    "\n",
    "# Adjust layout\n",
    "plt.tight_layout()\n",
    "\n",
    "# Displaying the plot\n",
    "plt.show()"
   ]
  },
  {
   "cell_type": "code",
   "execution_count": 75,
   "id": "0e064e68-7c19-4cce-ade8-8822b713a111",
   "metadata": {
    "tags": []
   },
   "outputs": [
    {
     "data": {
      "image/png": "[encoded data removed]",
      "text/plain": [
       "<Figure size 640x480 with 2 Axes>"
      ]
     },
     "metadata": {},
     "output_type": "display_data"
    }
   ],
   "source": [
    "fig, axs = plt.subplots(2)\n",
    "\n",
    "# Plotting Gender Inclusive MSE values\n",
    "axs[0].plot(G_nnMetrics_df['epoch'], G_nnMetrics_df['mae_nn1'], color='r', label='Gender Inclusive')\n",
    "axs[0].set_xlabel('Epoch count')\n",
    "axs[0].set_ylabel('MAE value')\n",
    "axs[0].set_title('MAE values for Gender Inclusive NN')\n",
    "axs[0].legend()\n",
    "axs[0].grid(True)\n",
    "\n",
    "# Plotting Gender Exclusive MSE values\n",
    "axs[1].plot(NG_nnMetrics_df['epoch'], NG_nnMetrics_df['mae_nn1'], color='b', label='Gender Exclusive')\n",
    "axs[1].set_xlabel('Epoch count')\n",
    "axs[1].set_ylabel('MAE value')\n",
    "axs[1].set_title('MAE values for Gender Exclusive NN')\n",
    "axs[1].legend()\n",
    "axs[1].grid(True)\n",
    "\n",
    "# Adjust layout\n",
    "plt.tight_layout()\n",
    "\n",
    "# Displaying the plot\n",
    "plt.show()"
   ]
  },
  {
   "cell_type": "markdown",
   "id": "28f853fa-a1fb-4a50-bf1f-eabb8b8e0f61",
   "metadata": {},
   "source": [
    "## Comparison visualizations"
   ]
  },
  {
   "cell_type": "code",
   "execution_count": 55,
   "id": "bcf67d6f-13e0-427e-b2cc-62c54b8c0cee",
   "metadata": {
    "tags": []
   },
   "outputs": [],
   "source": [
    "mse_arr = [['gender', 'Lasso-G', G_metrics_df['mse_lasso'][99]],\n",
    "          ['no-gender', 'Lasso-NG', NG_metrics_df['mse_lasso'][99]],\n",
    "          ['gender', 'Ridge-G', G_metrics_df['mse_ridge'][99]],\n",
    "          ['no-gender', 'Ridge-NG', NG_metrics_df['mse_ridge'][99]],\n",
    "          ['gender', 'NN-G', G_nnMetrics_df['mse_nn1'][99]],\n",
    "          ['no-gender', 'NN-NG', NG_nnMetrics_df['mse_nn1'][99]]]"
   ]
  },
  {
   "cell_type": "code",
   "execution_count": 68,
   "id": "c2f87f40-32f8-4986-898b-7de824bbbfab",
   "metadata": {
    "tags": []
   },
   "outputs": [
    {
     "name": "stderr",
     "output_type": "stream",
     "text": [
      "/var/folders/y_/y10p46q954j0sbmbks47d_xm0000gq/T/ipykernel_8536/259103997.py:3: FutureWarning: Passing a negative integer is deprecated in version 1.0 and will not be supported in future version. Instead, use None to not limit the column width.\n",
      "  pd.set_option('display.max_colwidth', -1)\n"
     ]
    }
   ],
   "source": [
    "mse_df = pd.DataFrame(mse_arr, columns=['Version', 'Model', 'Performance'])\n",
    "pd.set_option('display.float_format', '{:.10f}'.format)\n",
    "pd.set_option('display.max_colwidth', -1)"
   ]
  },
  {
   "cell_type": "code",
   "execution_count": 69,
   "id": "b5c3627e-4c44-446d-a125-ce85812c5ddd",
   "metadata": {
    "tags": []
   },
   "outputs": [
    {
     "data": {
      "text/html": [
       "<div>\n",
       "<style scoped>\n",
       "    .dataframe tbody tr th:only-of-type {\n",
       "        vertical-align: middle;\n",
       "    }\n",
       "\n",
       "    .dataframe tbody tr th {\n",
       "        vertical-align: top;\n",
       "    }\n",
       "\n",
       "    .dataframe thead th {\n",
       "        text-align: right;\n",
       "    }\n",
       "</style>\n",
       "<table border=\"1\" class=\"dataframe\">\n",
       "  <thead>\n",
       "    <tr style=\"text-align: right;\">\n",
       "      <th></th>\n",
       "      <th>Version</th>\n",
       "      <th>Model</th>\n",
       "      <th>Performance</th>\n",
       "    </tr>\n",
       "  </thead>\n",
       "  <tbody>\n",
       "    <tr>\n",
       "      <th>0</th>\n",
       "      <td>gender</td>\n",
       "      <td>Lasso-G</td>\n",
       "      <td>1110197315.4845182896</td>\n",
       "    </tr>\n",
       "    <tr>\n",
       "      <th>1</th>\n",
       "      <td>no-gender</td>\n",
       "      <td>Lasso-NG</td>\n",
       "      <td>1138758788.0071637630</td>\n",
       "    </tr>\n",
       "    <tr>\n",
       "      <th>2</th>\n",
       "      <td>gender</td>\n",
       "      <td>Ridge-G</td>\n",
       "      <td>1110187736.0106124878</td>\n",
       "    </tr>\n",
       "    <tr>\n",
       "      <th>3</th>\n",
       "      <td>no-gender</td>\n",
       "      <td>Ridge-NG</td>\n",
       "      <td>1138749225.9848384857</td>\n",
       "    </tr>\n",
       "    <tr>\n",
       "      <th>4</th>\n",
       "      <td>gender</td>\n",
       "      <td>NN-G</td>\n",
       "      <td>4735728500.2360105515</td>\n",
       "    </tr>\n",
       "    <tr>\n",
       "      <th>5</th>\n",
       "      <td>no-gender</td>\n",
       "      <td>NN-NG</td>\n",
       "      <td>4735728500.2360105515</td>\n",
       "    </tr>\n",
       "  </tbody>\n",
       "</table>\n",
       "</div>"
      ],
      "text/plain": [
       "     Version     Model           Performance\n",
       "0  gender     Lasso-G  1110197315.4845182896\n",
       "1  no-gender  Lasso-NG 1138758788.0071637630\n",
       "2  gender     Ridge-G  1110187736.0106124878\n",
       "3  no-gender  Ridge-NG 1138749225.9848384857\n",
       "4  gender     NN-G     4735728500.2360105515\n",
       "5  no-gender  NN-NG    4735728500.2360105515"
      ]
     },
     "execution_count": 69,
     "metadata": {},
     "output_type": "execute_result"
    }
   ],
   "source": [
    "mse_df"
   ]
  },
  {
   "cell_type": "code",
   "execution_count": 61,
   "id": "9a733408-71c0-43eb-a6b8-a4ff3d5602df",
   "metadata": {
    "tags": []
   },
   "outputs": [
    {
     "data": {
      "image/png": "[encoded data removed]",
      "text/plain": [
       "<Figure size 640x480 with 1 Axes>"
      ]
     },
     "metadata": {},
     "output_type": "display_data"
    }
   ],
   "source": [
    "# Dictionary to map colors to categories\n",
    "color_dict = {'gender': 'r', 'no-gender': 'b'}\n",
    "\n",
    "# Extracting data for plotting\n",
    "x_labels = [item[1] for item in mse_arr]\n",
    "y_values = [item[2] for item in mse_arr]\n",
    "colors = [color_dict[item[0]] for item in mse_arr]\n",
    "\n",
    "# Plotting the bars\n",
    "plt.bar(x_labels, y_values, color=colors)\n",
    "\n",
    "# Adding labels and title\n",
    "plt.xlabel('Model')\n",
    "plt.ylabel('MSE value')\n",
    "plt.title('MSE Comparisons')\n",
    "plt.grid(True)\n",
    "\n",
    "# Displaying the plot\n",
    "plt.show()"
   ]
  },
  {
   "cell_type": "code",
   "execution_count": 58,
   "id": "596023a8-a9c4-40d6-ab92-017ff2cb2754",
   "metadata": {
    "tags": []
   },
   "outputs": [],
   "source": [
    "mae_arr = [['gender', 'Lasso-G', G_metrics_df['mae_lasso'][99]],\n",
    "          ['no-gender', 'Lasso-NG', NG_metrics_df['mae_lasso'][99]],\n",
    "          ['gender', 'Ridge-G', G_metrics_df['mae_ridge'][99]],\n",
    "          ['no-gender', 'Ridge-NG', NG_metrics_df['mae_ridge'][99]]\n",
    "          ['gender', 'NN-G', G_nnMetrics_df['mae_nn1'][99]],\n",
    "          ['no-gender', 'NN-NG', NG_nnMetrics_df['mae_nn1'][99]]]"
   ]
  },
  {
   "cell_type": "code",
   "execution_count": 70,
   "id": "ca66a810-c755-432d-b271-edf7c1a87686",
   "metadata": {
    "tags": []
   },
   "outputs": [],
   "source": [
    "mae_df = pd.DataFrame(mae_arr, columns=['Version', 'Model', 'Performance'])"
   ]
  },
  {
   "cell_type": "code",
   "execution_count": 71,
   "id": "70305d99-03fa-42d1-beea-ea8ace96013d",
   "metadata": {
    "tags": []
   },
   "outputs": [
    {
     "data": {
      "text/html": [
       "<div>\n",
       "<style scoped>\n",
       "    .dataframe tbody tr th:only-of-type {\n",
       "        vertical-align: middle;\n",
       "    }\n",
       "\n",
       "    .dataframe tbody tr th {\n",
       "        vertical-align: top;\n",
       "    }\n",
       "\n",
       "    .dataframe thead th {\n",
       "        text-align: right;\n",
       "    }\n",
       "</style>\n",
       "<table border=\"1\" class=\"dataframe\">\n",
       "  <thead>\n",
       "    <tr style=\"text-align: right;\">\n",
       "      <th></th>\n",
       "      <th>Version</th>\n",
       "      <th>Model</th>\n",
       "      <th>Performance</th>\n",
       "    </tr>\n",
       "  </thead>\n",
       "  <tbody>\n",
       "    <tr>\n",
       "      <th>0</th>\n",
       "      <td>gender</td>\n",
       "      <td>Lasso-G</td>\n",
       "      <td>22809.8584620818</td>\n",
       "    </tr>\n",
       "    <tr>\n",
       "      <th>1</th>\n",
       "      <td>no-gender</td>\n",
       "      <td>Lasso-NG</td>\n",
       "      <td>23113.3675706104</td>\n",
       "    </tr>\n",
       "    <tr>\n",
       "      <th>2</th>\n",
       "      <td>gender</td>\n",
       "      <td>Ridge-G</td>\n",
       "      <td>22809.1819256734</td>\n",
       "    </tr>\n",
       "    <tr>\n",
       "      <th>3</th>\n",
       "      <td>no-gender</td>\n",
       "      <td>Ridge-NG</td>\n",
       "      <td>23112.5730453263</td>\n",
       "    </tr>\n",
       "    <tr>\n",
       "      <th>4</th>\n",
       "      <td>gender</td>\n",
       "      <td>NN-G</td>\n",
       "      <td>53243.5239806428</td>\n",
       "    </tr>\n",
       "    <tr>\n",
       "      <th>5</th>\n",
       "      <td>no-gender</td>\n",
       "      <td>NN-NG</td>\n",
       "      <td>53243.5239806428</td>\n",
       "    </tr>\n",
       "  </tbody>\n",
       "</table>\n",
       "</div>"
      ],
      "text/plain": [
       "     Version     Model      Performance\n",
       "0  gender     Lasso-G  22809.8584620818\n",
       "1  no-gender  Lasso-NG 23113.3675706104\n",
       "2  gender     Ridge-G  22809.1819256734\n",
       "3  no-gender  Ridge-NG 23112.5730453263\n",
       "4  gender     NN-G     53243.5239806428\n",
       "5  no-gender  NN-NG    53243.5239806428"
      ]
     },
     "execution_count": 71,
     "metadata": {},
     "output_type": "execute_result"
    }
   ],
   "source": [
    "mae_df"
   ]
  },
  {
   "cell_type": "code",
   "execution_count": 73,
   "id": "3d5bb239-95cf-4d70-8935-ed59a0edecc5",
   "metadata": {
    "tags": []
   },
   "outputs": [
    {
     "data": {
      "image/png": "[encoded data removed]",
      "text/plain": [
       "<Figure size 640x480 with 1 Axes>"
      ]
     },
     "metadata": {},
     "output_type": "display_data"
    }
   ],
   "source": [
    "# Dictionary to map colors to categories\n",
    "color_dict = {'gender': 'r', 'no-gender': 'b'}\n",
    "\n",
    "# Extracting data for plotting\n",
    "x_labels = [item[1] for item in mae_arr]\n",
    "y_values = [item[2] for item in mae_arr]\n",
    "colors = [color_dict[item[0]] for item in mae_arr]\n",
    "\n",
    "# Plotting the bars\n",
    "plt.bar(x_labels, y_values, color=colors)\n",
    "\n",
    "# Adding labels and title\n",
    "plt.xlabel('Model')\n",
    "plt.ylabel('MAE value')\n",
    "plt.title('MAE Comparisons')\n",
    "plt.grid(True)\n",
    "\n",
    "# Displaying the plot\n",
    "plt.show()"
   ]
  },
  {
   "cell_type": "code",
   "execution_count": null,
   "id": "20bd3b1b-bda1-49d5-b1a5-d865d9bafda2",
   "metadata": {},
   "outputs": [],
   "source": []
  }
 ],
 "metadata": {
  "kernelspec": {
   "display_name": "Python 3 (ipykernel)",
   "language": "python",
   "name": "python3"
  },
  "language_info": {
   "codemirror_mode": {
    "name": "ipython",
    "version": 3
   },
   "file_extension": ".py",
   "mimetype": "text/x-python",
   "name": "python",
   "nbconvert_exporter": "python",
   "pygments_lexer": "ipython3",
   "version": "3.9.12"
  }
 },
 "nbformat": 4,
 "nbformat_minor": 5
}
