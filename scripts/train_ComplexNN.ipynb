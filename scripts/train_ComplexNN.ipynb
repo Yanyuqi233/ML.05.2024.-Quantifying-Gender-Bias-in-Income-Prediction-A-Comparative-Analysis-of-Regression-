{
 "cells": [
  {
   "cell_type": "code",
   "execution_count": null,
   "id": "a34620c4-7571-47b8-80fd-aab082b5fdaf",
   "metadata": {
    "tags": []
   },
   "outputs": [],
   "source": [
    "import pandas as pd\n",
    "import numpy as np\n",
    "from sklearn.metrics import mean_squared_error, mean_absolute_error\n",
    "from util_funcs import process_data, split_data\n",
    "from neural_networks import SimpleNN, ComplexNN"
   ]
  },
  {
   "cell_type": "code",
   "execution_count": null,
   "id": "aa9c6e1e-f50f-4816-a60f-f7d36cadd013",
   "metadata": {
    "tags": []
   },
   "outputs": [],
   "source": [
    "df = pd.read_csv('/Users/niahodges/Downloads/Spring 2024/Practicum in Data Analytics and Statistics/project/temp-data/cps_ALL.csv')"
   ]
  },
  {
   "cell_type": "code",
   "execution_count": null,
   "id": "2bd75c99-3a27-4320-ab0f-8c69311cb8ee",
   "metadata": {
    "tags": []
   },
   "outputs": [],
   "source": [
    "df"
   ]
  },
  {
   "cell_type": "code",
   "execution_count": null,
   "id": "d7cb3b4b-47d1-4df2-a201-a438221113e8",
   "metadata": {
    "tags": []
   },
   "outputs": [],
   "source": [
    "df_temp1 = df.copy()\n",
    "df_gender = process_data(df_temp1,'gender')\n",
    "df_temp2 = df.copy()\n",
    "df_noGender = process_data(df_temp2,'no-gender')"
   ]
  },
  {
   "cell_type": "code",
   "execution_count": null,
   "id": "be6458fc-d11c-4dac-b471-12d1e4ff4ffc",
   "metadata": {
    "tags": []
   },
   "outputs": [],
   "source": [
    "X_train_G, X_test_G, y_train_G, y_test_G = split_data(df_gender)\n",
    "X_train_NG, X_test_NG, y_train_NG, y_test_NG = split_data(df_noGender)"
   ]
  },
  {
   "cell_type": "markdown",
   "id": "2f0c77f3-b7db-431f-a5a7-17d4b8af5b62",
   "metadata": {},
   "source": [
    "# Gender inclusive models"
   ]
  },
  {
   "cell_type": "markdown",
   "id": "d06d1443-5abf-4952-8673-df13af1946ca",
   "metadata": {},
   "source": [
    "## Complex NN"
   ]
  },
  {
   "cell_type": "code",
   "execution_count": null,
   "id": "3d882ec3-27c5-4627-ba57-5ef6f7c301cf",
   "metadata": {
    "tags": []
   },
   "outputs": [],
   "source": [
    "input_size=X_train_G.shape[1]\n",
    "hidden_sizes=[X_train_G.shape[1], 45, 22, 11]\n",
    "output_size=1\n",
    "\n",
    "# weights_input_hidden = np.random.randn(input_size, hidden_size)\n",
    "# weights_hidden_output = np.random.randn(hidden_size, output_size)\n",
    "weights = []\n",
    "layer_input_size = input_size\n",
    "for hidden_size in hidden_sizes:\n",
    "    weights.append(np.random.randn(layer_input_size, hidden_size))\n",
    "    layer_input_size = hidden_size\n",
    "weights.append(np.random.randn(layer_input_size, output_size))"
   ]
  },
  {
   "cell_type": "code",
   "execution_count": null,
   "id": "9549d404-60de-42ad-a04c-6dbbeeb47271",
   "metadata": {
    "tags": []
   },
   "outputs": [],
   "source": [
    "def forward(inputs):\n",
    "    # Perform forward pass\n",
    "    layer_input = inputs\n",
    "    for weight in weights[:-1]:\n",
    "        layer_output = np.dot(layer_input, weight)\n",
    "        layer_input = sigmoid(layer_output)\n",
    "    output = np.dot(layer_input, weights[-1])\n",
    "    return output\n",
    "\n",
    "def sigmoid(x):\n",
    "    # Sigmoid activation function\n",
    "    return 1 / (1 + np.exp(-x))\n",
    "\n",
    "def get_weights(self):\n",
    "    return weights"
   ]
  },
  {
   "cell_type": "code",
   "execution_count": null,
   "id": "2e74da36-393f-41f3-871b-7c50473db2ac",
   "metadata": {
    "tags": []
   },
   "outputs": [],
   "source": [
    "mse_history = []\n",
    "mae_history = []\n",
    "X_train = X_train_G\n",
    "y_train = y_train_G\n",
    "learning_rate=0.01\n",
    "epochs = 100\n",
    "\n",
    "print('Training complex NN...')\n",
    "\n",
    "for epoch in range(epochs):\n",
    "    # Forward pass\n",
    "    print(f'Forward pass for epoch {epoch+1}')\n",
    "    output = forward(X_train)\n",
    "    output = output.reshape(-1)         ### UPDATE ###\n",
    "\n",
    "    # Calculate MSE and MAE\n",
    "    print(f'Calculating MSE and MAE for epoch {epoch+1}')\n",
    "    if np.isnan(output).any():                 ### UPDATE ###\n",
    "        output = np.nan_to_num(output)\n",
    "    mse = mean_squared_error(y_train, output)\n",
    "    mae = mean_absolute_error(y_train, output)\n",
    "\n",
    "    # Store MSE and MAE\n",
    "    mse_history.append(mse)\n",
    "    mae_history.append(mae)\n",
    "\n",
    "    # Backpropagation\n",
    "    print(f'Backpropogation for epoch {epoch+1}')\n",
    "    error = output - y_train\n",
    "    delta_output = error\n",
    "    delta_output = delta_output.reshape(-1, 1)        ### UPDATE ###\n",
    "    delta_hidden = []\n",
    "    layer_input = X_train\n",
    "\n",
    "    # Calculate deltas for hidden layers\n",
    "    for i in range(len(weights) - 1, 0, -1):\n",
    "        # delta_hidden.append(np.dot(delta_output, weights[i].T) * (layer_input * (1 - layer_input)))\n",
    "        if np.isnan(delta_output).any():\n",
    "            delta_output[np.isnan(delta_output)] = 0\n",
    "        # if np.isnan(weights[i]).any():\n",
    "        #     weights[i][np.isnan(weights[i])] = 0\n",
    "        if np.isnan(layer_input).any():\n",
    "            layer_input[np.isnan(layer_input)] = 0\n",
    "        delta_hidden.append(np.dot(np.dot(delta_output, weights[i].reshape(-1, 1).T).T, (layer_input * (1 - layer_input))))\n",
    "\n",
    "    # Update weights\n",
    "    print(f'Updating weights for epoch {epoch+1}')\n",
    "    for i in range(len(weights) - 1, 0, -1):\n",
    "        weights[i] -= learning_rate * np.dot(sigmoid(np.dot(X_train, weights[i - 1])).T, delta_output)\n",
    "        delta_output = delta_hidden.pop()\n",
    "\n",
    "    if epoch % 10 == 0:\n",
    "        print(f\"Epoch {epoch + 1}/{epochs}, MSE: {mse}, MAE: {mae}\")"
   ]
  },
  {
   "cell_type": "code",
   "execution_count": null,
   "id": "55982f8e-1f74-404d-a228-f078c38e9d59",
   "metadata": {},
   "outputs": [],
   "source": [
    "nn2_weights_G = get_weights()"
   ]
  },
  {
   "cell_type": "code",
   "execution_count": null,
   "id": "9163cf31-309f-4206-8092-5b0347acca65",
   "metadata": {},
   "outputs": [],
   "source": [
    "nn2_weights_df = pd.DataFrame(nn2_weights_G)\n",
    "nn2_weights_df.to_csv('logs/nn2_G_weights.csv', index=False)"
   ]
  },
  {
   "cell_type": "code",
   "execution_count": null,
   "id": "cfa6f73a-4a6b-4c67-a6a5-b0c4a95672c4",
   "metadata": {},
   "outputs": [],
   "source": [
    "learning_history_G = {'epoch':range(1,101),\n",
    "                      # 'mse_lasso':mseHistory_lasso_G,\n",
    "                      # 'mse_ridge':mseHistory_ridge_G,\n",
    "                      # 'mse_svr':mseHistory_svr_G,\n",
    "                      # 'mse_nn1':mse_history,\n",
    "                      'mse_nn2':mse_history,\n",
    "                      # 'mae_lasso':maeHistory_lasso_G,\n",
    "                      # 'mae_ridge':maeHistory_ridge_G,\n",
    "                      # 'mae_svr':maeHistory_svr_G,\n",
    "                      # 'mae_nn1':mae_history,\n",
    "                      'mae_nn2':mae_history\n",
    "                     }"
   ]
  },
  {
   "cell_type": "code",
   "execution_count": null,
   "id": "c85d9b0f-4415-457c-b8fa-14c0b34c723e",
   "metadata": {},
   "outputs": [],
   "source": [
    "df_learning_history_G = pd.DataFrame(learning_history_G)\n",
    "csv_filename = 'logs/training_history_ComplexNN_gender.csv'\n",
    "df_learning_history_G.to_csv(csv_filename, index=False)"
   ]
  },
  {
   "cell_type": "markdown",
   "id": "85b90df5-efe2-4514-a7cc-73f398f5106c",
   "metadata": {},
   "source": [
    "# Gender exclusive models"
   ]
  },
  {
   "cell_type": "markdown",
   "id": "4d511285-ad00-4588-886b-aaa61aeacf3f",
   "metadata": {},
   "source": [
    "## Complex NN"
   ]
  },
  {
   "cell_type": "code",
   "execution_count": null,
   "id": "8e6f3d97-69f4-4e44-9613-26dc1b4d3dfb",
   "metadata": {},
   "outputs": [],
   "source": [
    "input_size=X_train_NG.shape[1]\n",
    "hidden_sizes=[X_train_G.shape[1], 45, 22, 11]\n",
    "output_size=1\n",
    "\n",
    "# weights_input_hidden = np.random.randn(input_size, hidden_size)\n",
    "# weights_hidden_output = np.random.randn(hidden_size, output_size)\n",
    "weights = []\n",
    "layer_input_size = input_size\n",
    "for hidden_size in hidden_sizes:\n",
    "    weights.append(np.random.randn(layer_input_size, hidden_size))\n",
    "    layer_input_size = hidden_size\n",
    "weights.append(np.random.randn(layer_input_size, output_size))"
   ]
  },
  {
   "cell_type": "code",
   "execution_count": null,
   "id": "1e56011e-c6f1-4cd5-b391-0f161ae3e969",
   "metadata": {},
   "outputs": [],
   "source": [
    "def forward(inputs):\n",
    "    # Perform forward pass\n",
    "    layer_input = inputs\n",
    "    for weight in weights[:-1]:\n",
    "        layer_output = np.dot(layer_input, weight)\n",
    "        layer_input = sigmoid(layer_output)\n",
    "    output = np.dot(layer_input, weights[-1])\n",
    "    return output\n",
    "\n",
    "def sigmoid(self, x):\n",
    "    # Sigmoid activation function\n",
    "    return 1 / (1 + np.exp(-x))\n",
    "\n",
    "def get_weights(self):\n",
    "    return weights"
   ]
  },
  {
   "cell_type": "code",
   "execution_count": null,
   "id": "8d68a586-f0cc-4623-8099-db16d7bc1865",
   "metadata": {},
   "outputs": [],
   "source": [
    "# save this block for NN body"
   ]
  },
  {
   "cell_type": "code",
   "execution_count": null,
   "id": "f652ddfe-1778-4e15-a741-b10bbd131c75",
   "metadata": {},
   "outputs": [],
   "source": [
    "nn2_weights_NG = get_weights()"
   ]
  },
  {
   "cell_type": "code",
   "execution_count": null,
   "id": "98b3bbd1-d8f0-4b5c-b41e-f5108341109d",
   "metadata": {},
   "outputs": [],
   "source": [
    "nn2_weights_df = pd.DataFrame(nn2_weights_NG)\n",
    "nn2_weights_df.to_csv('logs/nn2_NG_weights.csv', index=False)"
   ]
  },
  {
   "cell_type": "code",
   "execution_count": null,
   "id": "50d91bfa-47d9-409c-bc5d-0ea122c28c5e",
   "metadata": {},
   "outputs": [],
   "source": [
    "learning_history_NG = {'epoch':range(1,101),\n",
    "                      # 'mse_lasso':mseHistory_lasso_G,\n",
    "                      # 'mse_ridge':mseHistory_ridge_G,\n",
    "                      # 'mse_svr':mseHistory_svr_G,\n",
    "                      # 'mse_nn1':mse_history,\n",
    "                      'mse_nn2':mse_history,\n",
    "                      # 'mae_lasso':maeHistory_lasso_G,\n",
    "                      # 'mae_ridge':maeHistory_ridge_G,\n",
    "                      # 'mae_svr':maeHistory_svr_G,\n",
    "                      # 'mae_nn1':mae_history,\n",
    "                      'mae_nn2':mae_history\n",
    "                     }"
   ]
  },
  {
   "cell_type": "code",
   "execution_count": null,
   "id": "87fed3de-5e44-408e-973c-887d33b9cd64",
   "metadata": {},
   "outputs": [],
   "source": [
    "df_learning_history_NG = pd.DataFrame(learning_history_NG)\n",
    "csv_filename = 'logs/training_history_ComplexNN_no-gender.csv'\n",
    "df_learning_history_NG.to_csv(csv_filename, index=False)"
   ]
  }
 ],
 "metadata": {
  "kernelspec": {
   "display_name": "Python 3 (ipykernel)",
   "language": "python",
   "name": "python3"
  },
  "language_info": {
   "codemirror_mode": {
    "name": "ipython",
    "version": 3
   },
   "file_extension": ".py",
   "mimetype": "text/x-python",
   "name": "python",
   "nbconvert_exporter": "python",
   "pygments_lexer": "ipython3",
   "version": "3.9.12"
  }
 },
 "nbformat": 4,
 "nbformat_minor": 5
}
