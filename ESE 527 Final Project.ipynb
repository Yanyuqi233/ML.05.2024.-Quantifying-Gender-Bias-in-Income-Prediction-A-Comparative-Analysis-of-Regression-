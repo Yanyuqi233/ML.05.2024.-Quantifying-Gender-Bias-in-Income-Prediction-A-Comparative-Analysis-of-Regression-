{
 "cells": [
  {
   "cell_type": "markdown",
   "id": "c127b644",
   "metadata": {},
   "source": [
    "# Outline\n",
    "A. Data Collection\n",
    "    i. dataset: XXX\n",
    "    \n",
    "B. Data Exploration & Preprocessing\n",
    "    i. select variables\n",
    "    ii. aggregate datasets\n",
    "    iii. handle missing values\n",
    "    \n",
    "C. Descriptive Analytics\n",
    "    i. visualize US Labor tables in Tableau\n",
    "    \n",
    "D. Model Selection\n",
    "    i. select models for training \n",
    "        a. model 1: including gender\n",
    "        b. model 2: not including gender\n",
    "\n",
    "E. Model Training\n",
    "    i. create training & testing subsets\n",
    "    \n",
    "F. Performance Metrics\n",
    "    i. report MSE / error rates for each model\n",
    "\n",
    "G. Perscriptive Analytics & Recommendations\n",
    "    i. visualize results\n",
    "    ii. make recommendations on future decisions\n"
   ]
  },
  {
   "cell_type": "code",
   "execution_count": null,
   "id": "e6eb1e9c",
   "metadata": {},
   "outputs": [],
   "source": []
  }
 ],
 "metadata": {
  "kernelspec": {
   "display_name": "Python 3 (ipykernel)",
   "language": "python",
   "name": "python3"
  },
  "language_info": {
   "codemirror_mode": {
    "name": "ipython",
    "version": 3
   },
   "file_extension": ".py",
   "mimetype": "text/x-python",
   "name": "python",
   "nbconvert_exporter": "python",
   "pygments_lexer": "ipython3",
   "version": "3.9.5"
  }
 },
 "nbformat": 4,
 "nbformat_minor": 5
}
